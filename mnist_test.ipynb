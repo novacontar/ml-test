{
  "nbformat": 4,
  "nbformat_minor": 0,
  "metadata": {
    "colab": {
      "name": "mnist_test.ipynb",
      "provenance": [],
      "collapsed_sections": [],
      "authorship_tag": "ABX9TyMXlSq9mvFNHiMoY6g4IwlE",
      "include_colab_link": true
    },
    "kernelspec": {
      "name": "python3",
      "display_name": "Python 3"
    },
    "language_info": {
      "name": "python"
    }
  },
  "cells": [
    {
      "cell_type": "markdown",
      "metadata": {
        "id": "view-in-github",
        "colab_type": "text"
      },
      "source": [
        "<a href=\"https://colab.research.google.com/github/novacontar/ml-test/blob/main/mnist_test.ipynb\" target=\"_parent\"><img src=\"https://colab.research.google.com/assets/colab-badge.svg\" alt=\"Open In Colab\"/></a>"
      ]
    },
    {
      "cell_type": "code",
      "execution_count": 12,
      "metadata": {
        "id": "TKHK8gKszD04"
      },
      "outputs": [],
      "source": [
        "%matplotlib inline\n",
        "\n",
        "import matplotlib.pyplot as plt\n",
        "import numpy as np\n",
        "import pandas as pd\n",
        "\n",
        "import tensorflow as tf\n",
        "from tensorflow import keras\n",
        "from keras import layers\n",
        "from tensorflow.keras.layers import Dense, Dropout, Activation, Flatten\n",
        "\n",
        "# from tensorflow.keras.datasets import mnist\n",
        "# from tensorflow.keras.models import Sequential\n",
        "# from tensorflow.keras.layers import Dense, Dropout, Activation, Flatten\n",
        "# from tensorflow.keras.optimizers import SGD, Adam, RMSprop\n",
        "# from tensorflow.keras.utils import to_categorical"
      ]
    },
    {
      "cell_type": "code",
      "source": [
        "import matplotlib.pylab as pylab\n",
        "params = {\n",
        "    'legend.fontsize': 'x-large',\n",
        "    'figure.figsize': (8, 8),\n",
        "    'axes.labelsize': 'x-large',\n",
        "    'axes.titlesize':'x-large',\n",
        "    'xtick.labelsize':'x-large',\n",
        "    'ytick.labelsize':'x-large',\n",
        "}\n",
        "\n",
        "pylab.rcParams.update(params)"
      ],
      "metadata": {
        "id": "8L6tZlr2I3Jw"
      },
      "execution_count": null,
      "outputs": []
    },
    {
      "cell_type": "code",
      "source": [
        "(X_train, y_train), (X_test, y_test) = keras.datasets.mnist.load_data()\n",
        "#----------------------------------------------------------\n",
        "X_train.shape, X_test.shape, y_train.shape, y_test.shape"
      ],
      "metadata": {
        "colab": {
          "base_uri": "https://localhost:8080/"
        },
        "id": "pBeG1X2tzExp",
        "outputId": "6bc06f89-972e-4e33-ad33-6e6a4d223abb"
      },
      "execution_count": 3,
      "outputs": [
        {
          "output_type": "execute_result",
          "data": {
            "text/plain": [
              "((60000, 28, 28), (10000, 28, 28), (60000,), (10000,))"
            ]
          },
          "metadata": {},
          "execution_count": 3
        }
      ]
    },
    {
      "cell_type": "code",
      "source": [
        "plt.imshow(X_train[0], cmap='gray')"
      ],
      "metadata": {
        "colab": {
          "base_uri": "https://localhost:8080/",
          "height": 283
        },
        "id": "zY7_RCENzKZ0",
        "outputId": "3728e980-7b18-40cf-b2b0-d989d5ba6fe5"
      },
      "execution_count": 5,
      "outputs": [
        {
          "output_type": "execute_result",
          "data": {
            "text/plain": [
              "<matplotlib.image.AxesImage at 0x7fa8657f0650>"
            ]
          },
          "metadata": {},
          "execution_count": 5
        },
        {
          "output_type": "display_data",
          "data": {
            "text/plain": [
              "<Figure size 432x288 with 1 Axes>"
            ],
            "image/png": "[encoded data removed]"
          },
          "metadata": {
            "needs_background": "light"
          }
        }
      ]
    },
    {
      "cell_type": "code",
      "source": [
        "plt.imshow(X_train[4], cmap='gray')"
      ],
      "metadata": {
        "colab": {
          "base_uri": "https://localhost:8080/",
          "height": 283
        },
        "id": "SRiRbnxnzVI9",
        "outputId": "d3319f24-3268-4dd3-82c0-aee0e9c4a8e3"
      },
      "execution_count": 6,
      "outputs": [
        {
          "output_type": "execute_result",
          "data": {
            "text/plain": [
              "<matplotlib.image.AxesImage at 0x7fa86576a150>"
            ]
          },
          "metadata": {},
          "execution_count": 6
        },
        {
          "output_type": "display_data",
          "data": {
            "text/plain": [
              "<Figure size 432x288 with 1 Axes>"
            ],
            "image/png": "[encoded data removed]"
          },
          "metadata": {
            "needs_background": "light"
          }
        }
      ]
    },
    {
      "cell_type": "code",
      "source": [
        "X_train = X_train.reshape(60000, 784)\n",
        "X_test = X_test.reshape(10000, 784)\n",
        "X_train = X_train.astype('float32')\n",
        "X_test = X_test.astype('float32')\n",
        "X_train /= 255\n",
        "X_test /= 255\n",
        "print(X_train.shape, 'train samples')\n",
        "print(X_test.shape, 'test samples')"
      ],
      "metadata": {
        "colab": {
          "base_uri": "https://localhost:8080/"
        },
        "id": "_sv1i6n6zWmA",
        "outputId": "0dcfbb05-733f-4e59-b0ec-12c50d121dfa"
      },
      "execution_count": 7,
      "outputs": [
        {
          "output_type": "stream",
          "name": "stdout",
          "text": [
            "(60000, 784) train samples\n",
            "(10000, 784) test samples\n"
          ]
        }
      ]
    },
    {
      "cell_type": "code",
      "source": [
        "y_train_cat = keras.utils.to_categorical(y_train, 10)\n",
        "y_test_cat = keras.utils.to_categorical(y_test, 10)"
      ],
      "metadata": {
        "id": "su59rc5ZzZER"
      },
      "execution_count": 8,
      "outputs": []
    },
    {
      "cell_type": "code",
      "source": [
        "def plot_loss(hist):\n",
        "    loss = hist.history['loss']\n",
        "    plt.plot(range(len(loss)), loss)\n",
        "    plt.title('loss')\n",
        "    plt.xlabel('epochs')"
      ],
      "metadata": {
        "id": "5u1jpPsozbO6"
      },
      "execution_count": 9,
      "outputs": []
    },
    {
      "cell_type": "code",
      "source": [
        "model = keras.models.Sequential()\n",
        "# model.add(layers.Dense(32, input_shape=(28 * 28, 1), layers.activation='relu', name='hidden1'))\n",
        "model.add(Dense(32, input_shape=(28 * 28, ), activation='relu', name='hidden1'))\n",
        "model.add(Dense(16, activation='relu', name='hidden2'))\n",
        "model.add(Flatten())\n",
        "model.add(Dense(10, activation='softmax', name='out'))\n",
        "\n",
        "\n",
        "model.compile(\n",
        "    loss=keras.losses.SparseCategoricalCrossentropy(from_logits=True),\n",
        "    #'sparse_categorical_crossentropy',\n",
        "    optimizer='rmsprop',\n",
        "    metrics=['accuracy'],\n",
        ")\n",
        "\n",
        "model.summary()\n"
      ],
      "metadata": {
        "colab": {
          "base_uri": "https://localhost:8080/"
        },
        "id": "f5GzRHm0zr2j",
        "outputId": "89d098db-84d3-4438-82ce-9989310c6b79"
      },
      "execution_count": 15,
      "outputs": [
        {
          "output_type": "stream",
          "name": "stdout",
          "text": [
            "Model: \"sequential_1\"\n",
            "_________________________________________________________________\n",
            " Layer (type)                Output Shape              Param #   \n",
            "=================================================================\n",
            " hidden1 (Dense)             (None, 32)                25120     \n",
            "                                                                 \n",
            " hidden2 (Dense)             (None, 16)                528       \n",
            "                                                                 \n",
            " flatten_1 (Flatten)         (None, 16)                0         \n",
            "                                                                 \n",
            " out (Dense)                 (None, 10)                170       \n",
            "                                                                 \n",
            "=================================================================\n",
            "Total params: 25,818\n",
            "Trainable params: 25,818\n",
            "Non-trainable params: 0\n",
            "_________________________________________________________________\n"
          ]
        }
      ]
    },
    {
      "cell_type": "code",
      "source": [
        "model.fit(\n",
        "    X_train, \n",
        "    y_train, \n",
        "    batch_size=128, \n",
        "    epochs=10,\n",
        "    verbose=2,\n",
        ")"
      ],
      "metadata": {
        "colab": {
          "base_uri": "https://localhost:8080/"
        },
        "id": "l5n3HIC-z16p",
        "outputId": "c3dc78b1-1b79-4ccd-98f2-c28072611e35"
      },
      "execution_count": 41,
      "outputs": [
        {
          "output_type": "stream",
          "name": "stdout",
          "text": [
            "Epoch 1/10\n",
            "469/469 - 1s - loss: 0.0820 - accuracy: 0.9761 - 1s/epoch - 3ms/step\n",
            "Epoch 2/10\n",
            "469/469 - 1s - loss: 0.0775 - accuracy: 0.9770 - 896ms/epoch - 2ms/step\n",
            "Epoch 3/10\n",
            "469/469 - 1s - loss: 0.0745 - accuracy: 0.9778 - 955ms/epoch - 2ms/step\n",
            "Epoch 4/10\n",
            "469/469 - 1s - loss: 0.0711 - accuracy: 0.9788 - 888ms/epoch - 2ms/step\n",
            "Epoch 5/10\n",
            "469/469 - 1s - loss: 0.0684 - accuracy: 0.9798 - 904ms/epoch - 2ms/step\n",
            "Epoch 6/10\n",
            "469/469 - 1s - loss: 0.0657 - accuracy: 0.9802 - 951ms/epoch - 2ms/step\n",
            "Epoch 7/10\n",
            "469/469 - 1s - loss: 0.0638 - accuracy: 0.9812 - 961ms/epoch - 2ms/step\n",
            "Epoch 8/10\n",
            "469/469 - 1s - loss: 0.0614 - accuracy: 0.9819 - 979ms/epoch - 2ms/step\n",
            "Epoch 9/10\n",
            "469/469 - 1s - loss: 0.0587 - accuracy: 0.9827 - 977ms/epoch - 2ms/step\n",
            "Epoch 10/10\n",
            "469/469 - 1s - loss: 0.0565 - accuracy: 0.9829 - 956ms/epoch - 2ms/step\n"
          ]
        },
        {
          "output_type": "execute_result",
          "data": {
            "text/plain": [
              "<keras.callbacks.History at 0x7fa860d12d50>"
            ]
          },
          "metadata": {},
          "execution_count": 41
        }
      ]
    },
    {
      "cell_type": "code",
      "source": [
        "model.history.history"
      ],
      "metadata": {
        "colab": {
          "base_uri": "https://localhost:8080/"
        },
        "id": "4NNvXolf0D6V",
        "outputId": "e1dc0ec1-6628-4389-cd76-88eda931e8e5"
      },
      "execution_count": 22,
      "outputs": [
        {
          "output_type": "execute_result",
          "data": {
            "text/plain": [
              "{'accuracy': [0.9453666806221008,\n",
              "  0.9517833590507507,\n",
              "  0.9568666815757751,\n",
              "  0.9615333080291748,\n",
              "  0.9649333357810974,\n",
              "  0.9677500128746033,\n",
              "  0.9697166681289673,\n",
              "  0.9718166589736938,\n",
              "  0.9738333225250244,\n",
              "  0.9741666913032532],\n",
              " 'loss': [0.18824641406536102,\n",
              "  0.1623702347278595,\n",
              "  0.14429466426372528,\n",
              "  0.12943895161151886,\n",
              "  0.11923294514417648,\n",
              "  0.1091051995754242,\n",
              "  0.10236623883247375,\n",
              "  0.09579698741436005,\n",
              "  0.09012482315301895,\n",
              "  0.08612150698900223]}"
            ]
          },
          "metadata": {},
          "execution_count": 22
        }
      ]
    },
    {
      "cell_type": "markdown",
      "source": [
        ""
      ],
      "metadata": {
        "id": "LpdlKD-UHImU"
      }
    },
    {
      "cell_type": "code",
      "source": [
        "pd.DataFrame(model.history.history).plot(\n",
        "    grid=True,\n",
        "    fontsize=16,\n",
        "    xlabel='epochs',\n",
        "    ylabel='',\n",
        "    title='training',\n",
        "    # rot=45,\n",
        ")\n"
      ],
      "metadata": {
        "colab": {
          "base_uri": "https://localhost:8080/",
          "height": 540
        },
        "id": "ymmJoPxfGLP3",
        "outputId": "e4dce05a-66c0-4255-a46a-e4057e096cbe"
      },
      "execution_count": 42,
      "outputs": [
        {
          "output_type": "execute_result",
          "data": {
            "text/plain": [
              "<matplotlib.axes._subplots.AxesSubplot at 0x7fa860c8ea90>"
            ]
          },
          "metadata": {},
          "execution_count": 42
        },
        {
          "output_type": "display_data",
          "data": {
            "text/plain": [
              "<Figure size 576x576 with 1 Axes>"
            ],
            "image/png": "[encoded data removed]"
          },
          "metadata": {
            "needs_background": "light"
          }
        }
      ]
    },
    {
      "cell_type": "code",
      "source": [
        ""
      ],
      "metadata": {
        "id": "Mws9JsIwGWI0"
      },
      "execution_count": null,
      "outputs": []
    }
  ]
}